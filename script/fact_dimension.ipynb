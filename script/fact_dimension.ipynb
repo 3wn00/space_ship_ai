{
 "cells": [
  {
   "cell_type": "markdown",
   "id": "ae8b8157",
   "metadata": {},
   "source": [
    "## Part 2: Building the Fact and Dimension Tables\n",
    "\n",
    "This notebook takes the cleaned DataFrames from Part 1 and uses them to construct a star schema. The schema will consist of a central `fact_trips` table and four dimension tables: `dim_date`, `dim_transport`, `dim_customer`, and `dim_celestial_object`."
   ]
  },
  {
   "cell_type": "code",
   "execution_count": 5,
   "id": "2655d0b2",
   "metadata": {},
   "outputs": [
    {
     "name": "stdout",
     "output_type": "stream",
     "text": [
      "Available tables: ['Transport', 'Trip', 'CelestialObject', 'Visit', 'Customer', 'Participant']\n"
     ]
    }
   ],
   "source": [
    "import pandas as pd\n",
    "import numpy as np\n",
    "import pickle\n",
    "\n",
    "with open('cleaned_data.pkl', 'rb') as f:\n",
    "    dfs_cleaned = pickle.load(f)\n",
    "\n",
    "# verify that the keys (table names) are correct\n",
    "print(\"Available tables:\", list(dfs_cleaned.keys()))"
   ]
  },
  {
   "cell_type": "code",
   "execution_count": 6,
   "id": "8e0343f7",
   "metadata": {},
   "outputs": [],
   "source": [
    "# lets create a new dictionary to hold our final schema tables\n",
    "schema_tables = {}"
   ]
  },
  {
   "cell_type": "markdown",
   "id": "eb58cbf8",
   "metadata": {},
   "source": [
    "### Create `dim_date`\n",
    "\n",
    "This dimension gives context to when a trip occurred. We will create it from the `departure_date` in our cleaned `Trip` table. We'll extract features like year, month, and day of the week, and create a unique integer key for each date.\n"
   ]
  },
  {
   "cell_type": "code",
   "execution_count": 7,
   "id": "cd41426d",
   "metadata": {},
   "outputs": [
    {
     "name": "stdout",
     "output_type": "stream",
     "text": [
      "`dim_date` created successfully.\n"
     ]
    },
    {
     "data": {
      "text/html": [
       "<div>\n",
       "<style scoped>\n",
       "    .dataframe tbody tr th:only-of-type {\n",
       "        vertical-align: middle;\n",
       "    }\n",
       "\n",
       "    .dataframe tbody tr th {\n",
       "        vertical-align: top;\n",
       "    }\n",
       "\n",
       "    .dataframe thead th {\n",
       "        text-align: right;\n",
       "    }\n",
       "</style>\n",
       "<table border=\"1\" class=\"dataframe\">\n",
       "  <thead>\n",
       "    <tr style=\"text-align: right;\">\n",
       "      <th></th>\n",
       "      <th>date_key</th>\n",
       "      <th>full_date</th>\n",
       "      <th>year</th>\n",
       "      <th>month</th>\n",
       "      <th>day_of_week</th>\n",
       "    </tr>\n",
       "  </thead>\n",
       "  <tbody>\n",
       "    <tr>\n",
       "      <th>0</th>\n",
       "      <td>20320817</td>\n",
       "      <td>2032-08-17</td>\n",
       "      <td>2032</td>\n",
       "      <td>8</td>\n",
       "      <td>Tuesday</td>\n",
       "    </tr>\n",
       "    <tr>\n",
       "      <th>1</th>\n",
       "      <td>20320813</td>\n",
       "      <td>2032-08-13</td>\n",
       "      <td>2032</td>\n",
       "      <td>8</td>\n",
       "      <td>Friday</td>\n",
       "    </tr>\n",
       "    <tr>\n",
       "      <th>2</th>\n",
       "      <td>20300917</td>\n",
       "      <td>2030-09-17</td>\n",
       "      <td>2030</td>\n",
       "      <td>9</td>\n",
       "      <td>Tuesday</td>\n",
       "    </tr>\n",
       "    <tr>\n",
       "      <th>3</th>\n",
       "      <td>20321129</td>\n",
       "      <td>2032-11-29</td>\n",
       "      <td>2032</td>\n",
       "      <td>11</td>\n",
       "      <td>Monday</td>\n",
       "    </tr>\n",
       "    <tr>\n",
       "      <th>4</th>\n",
       "      <td>20340112</td>\n",
       "      <td>2034-01-12</td>\n",
       "      <td>2034</td>\n",
       "      <td>1</td>\n",
       "      <td>Thursday</td>\n",
       "    </tr>\n",
       "  </tbody>\n",
       "</table>\n",
       "</div>"
      ],
      "text/plain": [
       "   date_key  full_date  year  month day_of_week\n",
       "0  20320817 2032-08-17  2032      8     Tuesday\n",
       "1  20320813 2032-08-13  2032      8      Friday\n",
       "2  20300917 2030-09-17  2030      9     Tuesday\n",
       "3  20321129 2032-11-29  2032     11      Monday\n",
       "4  20340112 2034-01-12  2034      1    Thursday"
      ]
     },
     "execution_count": 7,
     "metadata": {},
     "output_type": "execute_result"
    }
   ],
   "source": [
    "trip_df = dfs_cleaned['Trip']\n",
    "\n",
    "# Create the base for the dimension table, dropping duplicates\n",
    "dim_date = trip_df[['departure_date']].drop_duplicates().reset_index(drop=True)\n",
    "\n",
    "# feature engineering for the ml model\n",
    "dim_date['full_date'] = dim_date['departure_date']\n",
    "dim_date['year'] = dim_date['departure_date'].dt.year\n",
    "dim_date['month'] = dim_date['departure_date'].dt.month\n",
    "dim_date['day_of_week'] = dim_date['departure_date'].dt.day_name()\n",
    "\n",
    "# create the date_key (e.g., 2032-08-17 -> 20320817)\n",
    "dim_date['date_key'] = dim_date['departure_date'].dt.strftime('%Y%m%d').astype(int)\n",
    "\n",
    "dim_date = dim_date[['date_key', 'full_date', 'year', 'month', 'day_of_week']]\n",
    "\n",
    "schema_tables['dim_date'] = dim_date\n",
    "print(\"`dim_date` created successfully.\")\n",
    "dim_date.head()"
   ]
  },
  {
   "cell_type": "markdown",
   "id": "9ba7fef9",
   "metadata": {},
   "source": [
    "### Creating Simple Dimensions\n",
    "\n",
    "These three dimensions are straightforward. We select the relevant table from our cleaned data and rename the columns to match our star schema design (using `_key` and `_description`/`_name`)."
   ]
  },
  {
   "cell_type": "code",
   "execution_count": 8,
   "id": "4ae881e5",
   "metadata": {},
   "outputs": [
    {
     "data": {
      "text/html": [
       "<div>\n",
       "<style scoped>\n",
       "    .dataframe tbody tr th:only-of-type {\n",
       "        vertical-align: middle;\n",
       "    }\n",
       "\n",
       "    .dataframe tbody tr th {\n",
       "        vertical-align: top;\n",
       "    }\n",
       "\n",
       "    .dataframe thead th {\n",
       "        text-align: right;\n",
       "    }\n",
       "</style>\n",
       "<table border=\"1\" class=\"dataframe\">\n",
       "  <thead>\n",
       "    <tr style=\"text-align: right;\">\n",
       "      <th></th>\n",
       "      <th>transport_key</th>\n",
       "      <th>transport_description</th>\n",
       "    </tr>\n",
       "  </thead>\n",
       "  <tbody>\n",
       "    <tr>\n",
       "      <th>0</th>\n",
       "      <td>RV</td>\n",
       "      <td>space shuttle</td>\n",
       "    </tr>\n",
       "    <tr>\n",
       "      <th>1</th>\n",
       "      <td>BU</td>\n",
       "      <td>beam up</td>\n",
       "    </tr>\n",
       "    <tr>\n",
       "      <th>2</th>\n",
       "      <td>FTL</td>\n",
       "      <td>faster than light cruiser</td>\n",
       "    </tr>\n",
       "  </tbody>\n",
       "</table>\n",
       "</div>"
      ],
      "text/plain": [
       "  transport_key      transport_description\n",
       "0            RV              space shuttle\n",
       "1            BU                    beam up\n",
       "2           FTL  faster than light cruiser"
      ]
     },
     "execution_count": 8,
     "metadata": {},
     "output_type": "execute_result"
    }
   ],
   "source": [
    "# Dimension: Transport\n",
    "dim_transport = dfs_cleaned['Transport'].rename(columns={\n",
    "    'code': 'transport_key',\n",
    "    'description': 'transport_description'\n",
    "})\n",
    "schema_tables['dim_transport'] = dim_transport\n",
    "\n",
    "\n",
    "# Dimension: Customer\n",
    "dim_customer = dfs_cleaned['Customer'].rename(columns={\n",
    "    'number': 'customer_key',\n",
    "    'name': 'customer_name'\n",
    "})\n",
    "schema_tables['dim_customer'] = dim_customer\n",
    "\n",
    "\n",
    "# Dimension: Celestial Object\n",
    "dim_celestial_object = dfs_cleaned['CelestialObject'].rename(columns={\n",
    "    'name': 'celestial_object_key'\n",
    "})\n",
    "schema_tables['dim_celestial_object'] = dim_celestial_object\n",
    "\n",
    "schema_tables['dim_transport']"
   ]
  },
  {
   "cell_type": "code",
   "execution_count": 9,
   "id": "22019e41",
   "metadata": {},
   "outputs": [
    {
     "data": {
      "text/html": [
       "<div>\n",
       "<style scoped>\n",
       "    .dataframe tbody tr th:only-of-type {\n",
       "        vertical-align: middle;\n",
       "    }\n",
       "\n",
       "    .dataframe tbody tr th {\n",
       "        vertical-align: top;\n",
       "    }\n",
       "\n",
       "    .dataframe thead th {\n",
       "        text-align: right;\n",
       "    }\n",
       "</style>\n",
       "<table border=\"1\" class=\"dataframe\">\n",
       "  <thead>\n",
       "    <tr style=\"text-align: right;\">\n",
       "      <th></th>\n",
       "      <th>customer_key</th>\n",
       "      <th>customer_name</th>\n",
       "      <th>birth_date</th>\n",
       "    </tr>\n",
       "  </thead>\n",
       "  <tbody>\n",
       "    <tr>\n",
       "      <th>0</th>\n",
       "      <td>1</td>\n",
       "      <td>Janice Smith</td>\n",
       "      <td>1990-08-12</td>\n",
       "    </tr>\n",
       "    <tr>\n",
       "      <th>1</th>\n",
       "      <td>2</td>\n",
       "      <td>Michael Stout</td>\n",
       "      <td>2003-11-08</td>\n",
       "    </tr>\n",
       "    <tr>\n",
       "      <th>2</th>\n",
       "      <td>3</td>\n",
       "      <td>Amy Davis</td>\n",
       "      <td>2006-06-18</td>\n",
       "    </tr>\n",
       "    <tr>\n",
       "      <th>3</th>\n",
       "      <td>4</td>\n",
       "      <td>Stephanie Lester</td>\n",
       "      <td>2007-01-12</td>\n",
       "    </tr>\n",
       "    <tr>\n",
       "      <th>4</th>\n",
       "      <td>5</td>\n",
       "      <td>Joseph Johnson</td>\n",
       "      <td>2002-09-19</td>\n",
       "    </tr>\n",
       "  </tbody>\n",
       "</table>\n",
       "</div>"
      ],
      "text/plain": [
       "   customer_key     customer_name birth_date\n",
       "0             1      Janice Smith 1990-08-12\n",
       "1             2     Michael Stout 2003-11-08\n",
       "2             3         Amy Davis 2006-06-18\n",
       "3             4  Stephanie Lester 2007-01-12\n",
       "4             5    Joseph Johnson 2002-09-19"
      ]
     },
     "execution_count": 9,
     "metadata": {},
     "output_type": "execute_result"
    }
   ],
   "source": [
    "schema_tables['dim_customer'].head()"
   ]
  },
  {
   "cell_type": "code",
   "execution_count": 10,
   "id": "220400a2",
   "metadata": {},
   "outputs": [
    {
     "data": {
      "text/html": [
       "<div>\n",
       "<style scoped>\n",
       "    .dataframe tbody tr th:only-of-type {\n",
       "        vertical-align: middle;\n",
       "    }\n",
       "\n",
       "    .dataframe tbody tr th {\n",
       "        vertical-align: top;\n",
       "    }\n",
       "\n",
       "    .dataframe thead th {\n",
       "        text-align: right;\n",
       "    }\n",
       "</style>\n",
       "<table border=\"1\" class=\"dataframe\">\n",
       "  <thead>\n",
       "    <tr style=\"text-align: right;\">\n",
       "      <th></th>\n",
       "      <th>celestial_object_key</th>\n",
       "      <th>parent_object</th>\n",
       "      <th>distance_from_parent_1000km</th>\n",
       "      <th>diameter_km</th>\n",
       "    </tr>\n",
       "  </thead>\n",
       "  <tbody>\n",
       "    <tr>\n",
       "      <th>0</th>\n",
       "      <td>Sun</td>\n",
       "      <td>None</td>\n",
       "      <td>0.0</td>\n",
       "      <td>1393000</td>\n",
       "    </tr>\n",
       "    <tr>\n",
       "      <th>1</th>\n",
       "      <td>Mercury</td>\n",
       "      <td>Sun</td>\n",
       "      <td>57900.0</td>\n",
       "      <td>4878</td>\n",
       "    </tr>\n",
       "    <tr>\n",
       "      <th>2</th>\n",
       "      <td>Venus</td>\n",
       "      <td>Sun</td>\n",
       "      <td>108200.0</td>\n",
       "      <td>12104</td>\n",
       "    </tr>\n",
       "    <tr>\n",
       "      <th>3</th>\n",
       "      <td>Earth</td>\n",
       "      <td>Sun</td>\n",
       "      <td>149600.0</td>\n",
       "      <td>12756</td>\n",
       "    </tr>\n",
       "    <tr>\n",
       "      <th>4</th>\n",
       "      <td>Moon</td>\n",
       "      <td>Earth</td>\n",
       "      <td>384.4</td>\n",
       "      <td>3476</td>\n",
       "    </tr>\n",
       "  </tbody>\n",
       "</table>\n",
       "</div>"
      ],
      "text/plain": [
       "  celestial_object_key parent_object  distance_from_parent_1000km  diameter_km\n",
       "0                  Sun          None                          0.0      1393000\n",
       "1              Mercury           Sun                      57900.0         4878\n",
       "2                Venus           Sun                     108200.0        12104\n",
       "3                Earth           Sun                     149600.0        12756\n",
       "4                 Moon         Earth                        384.4         3476"
      ]
     },
     "execution_count": 10,
     "metadata": {},
     "output_type": "execute_result"
    }
   ],
   "source": [
    "schema_tables['dim_celestial_object'].head()"
   ]
  },
  {
   "cell_type": "markdown",
   "id": "25bd49ff",
   "metadata": {},
   "source": [
    "### Creating the Fact Table ( Base and Keys)\n",
    "\n",
    "Now we'll build the central `fact_trips` table. First, we select the base measures (`price`, `duration`) from the cleaned `Trip` table. Then we create the foreign keys that will link to our dimension tables.\n"
   ]
  },
  {
   "cell_type": "code",
   "execution_count": 11,
   "id": "d261b00e",
   "metadata": {},
   "outputs": [
    {
     "data": {
      "text/html": [
       "<div>\n",
       "<style scoped>\n",
       "    .dataframe tbody tr th:only-of-type {\n",
       "        vertical-align: middle;\n",
       "    }\n",
       "\n",
       "    .dataframe tbody tr th {\n",
       "        vertical-align: top;\n",
       "    }\n",
       "\n",
       "    .dataframe thead th {\n",
       "        text-align: right;\n",
       "    }\n",
       "</style>\n",
       "<table border=\"1\" class=\"dataframe\">\n",
       "  <thead>\n",
       "    <tr style=\"text-align: right;\">\n",
       "      <th></th>\n",
       "      <th>trip_key</th>\n",
       "      <th>date_key</th>\n",
       "      <th>transport_key</th>\n",
       "      <th>price</th>\n",
       "      <th>duration</th>\n",
       "    </tr>\n",
       "  </thead>\n",
       "  <tbody>\n",
       "    <tr>\n",
       "      <th>0</th>\n",
       "      <td>1</td>\n",
       "      <td>20320817</td>\n",
       "      <td>BU</td>\n",
       "      <td>17186.78</td>\n",
       "      <td>368.0</td>\n",
       "    </tr>\n",
       "    <tr>\n",
       "      <th>1</th>\n",
       "      <td>2</td>\n",
       "      <td>20320813</td>\n",
       "      <td>FTL</td>\n",
       "      <td>18551.89</td>\n",
       "      <td>237.0</td>\n",
       "    </tr>\n",
       "    <tr>\n",
       "      <th>2</th>\n",
       "      <td>3</td>\n",
       "      <td>20300917</td>\n",
       "      <td>RV</td>\n",
       "      <td>19391.71</td>\n",
       "      <td>314.0</td>\n",
       "    </tr>\n",
       "    <tr>\n",
       "      <th>3</th>\n",
       "      <td>4</td>\n",
       "      <td>20321129</td>\n",
       "      <td>FTL</td>\n",
       "      <td>27844.02</td>\n",
       "      <td>299.0</td>\n",
       "    </tr>\n",
       "    <tr>\n",
       "      <th>4</th>\n",
       "      <td>5</td>\n",
       "      <td>20340112</td>\n",
       "      <td>FTL</td>\n",
       "      <td>5393.89</td>\n",
       "      <td>113.0</td>\n",
       "    </tr>\n",
       "  </tbody>\n",
       "</table>\n",
       "</div>"
      ],
      "text/plain": [
       "   trip_key  date_key transport_key     price  duration\n",
       "0         1  20320817            BU  17186.78     368.0\n",
       "1         2  20320813           FTL  18551.89     237.0\n",
       "2         3  20300917            RV  19391.71     314.0\n",
       "3         4  20321129           FTL  27844.02     299.0\n",
       "4         5  20340112           FTL   5393.89     113.0"
      ]
     },
     "execution_count": 11,
     "metadata": {},
     "output_type": "execute_result"
    }
   ],
   "source": [
    "fact_trips = dfs_cleaned['Trip'].copy()\n",
    "\n",
    "# Rename columns to match the schema design\n",
    "fact_trips = fact_trips.rename(columns={'number': 'trip_key', 'transport': 'transport_key'})\n",
    "\n",
    "# Create the date_key for joining with dim_date\n",
    "fact_trips['date_key'] = fact_trips['departure_date'].dt.strftime('%Y%m%d').astype(int)\n",
    "\n",
    "# We only need the keys and measures in the fact table\n",
    "fact_trips = fact_trips[['trip_key', 'date_key', 'transport_key', 'price', 'duration']]\n",
    "\n",
    "fact_trips.head()"
   ]
  },
  {
   "cell_type": "markdown",
   "id": "bde332d5",
   "metadata": {},
   "source": [
    "### Creating the Fact Table (Calculated Facts)\n",
    "\n",
    "Our schema design includes calculated facts: `total_passengers` and `total_stay_duration`. We need to calculate these by aggregating data from the `Participant` and `Visit` tables, respectively.\n"
   ]
  },
  {
   "cell_type": "code",
   "execution_count": 12,
   "id": "91af4cda",
   "metadata": {},
   "outputs": [
    {
     "name": "stdout",
     "output_type": "stream",
     "text": [
      "\n",
      "--- Passengers per Trip ---\n",
      "   trip_key  total_passengers\n",
      "0         1                 1\n",
      "1         2                11\n",
      "2         3                 6\n",
      "3         4                12\n",
      "4         5                12\n",
      "\n",
      "--- Stay Duration per Trip ---\n",
      "   trip_key  total_stay_duration\n",
      "0         1                  366\n",
      "1         2                  234\n",
      "2         3                  309\n",
      "3         4                  295\n",
      "4         5                  111\n"
     ]
    }
   ],
   "source": [
    "# calculate total passengers per trip\n",
    "passengers_per_trip = dfs_cleaned['Participant'].groupby('trip')['customer'].count().reset_index()\n",
    "passengers_per_trip = passengers_per_trip.rename(columns={'trip': 'trip_key', 'customer': 'total_passengers'})\n",
    "\n",
    "# calculate total stay duration per trip\n",
    "stay_per_trip = dfs_cleaned['Visit'].groupby('trip')['stay_duration'].sum().reset_index()\n",
    "stay_per_trip = stay_per_trip.rename(columns={'trip': 'trip_key', 'stay_duration': 'total_stay_duration'})\n",
    "\n",
    "\n",
    "print(\"\\n--- Passengers per Trip ---\")\n",
    "print(passengers_per_trip.head())\n",
    "\n",
    "print(\"\\n--- Stay Duration per Trip ---\")\n",
    "print(stay_per_trip.head())"
   ]
  },
  {
   "cell_type": "markdown",
   "id": "558baecb",
   "metadata": {},
   "source": [
    "### Create the Fact Table (Part 3 - Final Merge)\n",
    "\n",
    "Finally, we merge our calculated facts into the main `fact_trips` table using the `trip_key`."
   ]
  },
  {
   "cell_type": "code",
   "execution_count": 13,
   "id": "7551d527",
   "metadata": {},
   "outputs": [
    {
     "name": "stdout",
     "output_type": "stream",
     "text": [
      "Final `fact_trips` table created successfully.\n"
     ]
    },
    {
     "name": "stderr",
     "output_type": "stream",
     "text": [
      "C:\\Users\\erwin\\AppData\\Local\\Temp\\ipykernel_22008\\3268452021.py:6: FutureWarning: A value is trying to be set on a copy of a DataFrame or Series through chained assignment using an inplace method.\n",
      "The behavior will change in pandas 3.0. This inplace method will never work because the intermediate object on which we are setting values always behaves as a copy.\n",
      "\n",
      "For example, when doing 'df[col].method(value, inplace=True)', try using 'df.method({col: value}, inplace=True)' or df[col] = df[col].method(value) instead, to perform the operation inplace on the original object.\n",
      "\n",
      "\n",
      "  fact_trips['total_passengers'].fillna(0, inplace=True)\n",
      "C:\\Users\\erwin\\AppData\\Local\\Temp\\ipykernel_22008\\3268452021.py:7: FutureWarning: A value is trying to be set on a copy of a DataFrame or Series through chained assignment using an inplace method.\n",
      "The behavior will change in pandas 3.0. This inplace method will never work because the intermediate object on which we are setting values always behaves as a copy.\n",
      "\n",
      "For example, when doing 'df[col].method(value, inplace=True)', try using 'df.method({col: value}, inplace=True)' or df[col] = df[col].method(value) instead, to perform the operation inplace on the original object.\n",
      "\n",
      "\n",
      "  fact_trips['total_stay_duration'].fillna(0, inplace=True)\n"
     ]
    }
   ],
   "source": [
    "# Merge the calculated facts into the fact table\n",
    "fact_trips = pd.merge(fact_trips, passengers_per_trip, on='trip_key', how='left')\n",
    "fact_trips = pd.merge(fact_trips, stay_per_trip, on='trip_key', how='left')\n",
    "\n",
    "# Handle cases where a trip might have no recorded visits or passengers\n",
    "fact_trips['total_passengers'].fillna(0, inplace=True)\n",
    "fact_trips['total_stay_duration'].fillna(0, inplace=True)\n",
    "\n",
    "# Convert to integer types\n",
    "fact_trips['total_passengers'] = fact_trips['total_passengers'].astype(int)\n",
    "fact_trips['total_stay_duration'] = fact_trips['total_stay_duration'].astype(int)\n",
    "\n",
    "schema_tables['fact_trips'] = fact_trips\n",
    "print(\"Final `fact_trips` table created successfully.\")"
   ]
  },
  {
   "cell_type": "markdown",
   "id": "bf5cdc31",
   "metadata": {},
   "source": [
    "### Final Verification\n",
    "\n",
    "Let's look at the head of our completed `fact_trips` table. It should contain the primary key, all foreign keys, and all the measure columns. The data is now structured in a clean star schema.\n"
   ]
  },
  {
   "cell_type": "code",
   "execution_count": 14,
   "id": "f3ca2468",
   "metadata": {},
   "outputs": [
    {
     "data": {
      "text/html": [
       "<div>\n",
       "<style scoped>\n",
       "    .dataframe tbody tr th:only-of-type {\n",
       "        vertical-align: middle;\n",
       "    }\n",
       "\n",
       "    .dataframe tbody tr th {\n",
       "        vertical-align: top;\n",
       "    }\n",
       "\n",
       "    .dataframe thead th {\n",
       "        text-align: right;\n",
       "    }\n",
       "</style>\n",
       "<table border=\"1\" class=\"dataframe\">\n",
       "  <thead>\n",
       "    <tr style=\"text-align: right;\">\n",
       "      <th></th>\n",
       "      <th>trip_key</th>\n",
       "      <th>date_key</th>\n",
       "      <th>transport_key</th>\n",
       "      <th>price</th>\n",
       "      <th>duration</th>\n",
       "      <th>total_passengers</th>\n",
       "      <th>total_stay_duration</th>\n",
       "    </tr>\n",
       "  </thead>\n",
       "  <tbody>\n",
       "    <tr>\n",
       "      <th>0</th>\n",
       "      <td>1</td>\n",
       "      <td>20320817</td>\n",
       "      <td>BU</td>\n",
       "      <td>17186.78</td>\n",
       "      <td>368.0</td>\n",
       "      <td>1</td>\n",
       "      <td>366</td>\n",
       "    </tr>\n",
       "    <tr>\n",
       "      <th>1</th>\n",
       "      <td>2</td>\n",
       "      <td>20320813</td>\n",
       "      <td>FTL</td>\n",
       "      <td>18551.89</td>\n",
       "      <td>237.0</td>\n",
       "      <td>11</td>\n",
       "      <td>234</td>\n",
       "    </tr>\n",
       "    <tr>\n",
       "      <th>2</th>\n",
       "      <td>3</td>\n",
       "      <td>20300917</td>\n",
       "      <td>RV</td>\n",
       "      <td>19391.71</td>\n",
       "      <td>314.0</td>\n",
       "      <td>6</td>\n",
       "      <td>309</td>\n",
       "    </tr>\n",
       "    <tr>\n",
       "      <th>3</th>\n",
       "      <td>4</td>\n",
       "      <td>20321129</td>\n",
       "      <td>FTL</td>\n",
       "      <td>27844.02</td>\n",
       "      <td>299.0</td>\n",
       "      <td>12</td>\n",
       "      <td>295</td>\n",
       "    </tr>\n",
       "    <tr>\n",
       "      <th>4</th>\n",
       "      <td>5</td>\n",
       "      <td>20340112</td>\n",
       "      <td>FTL</td>\n",
       "      <td>5393.89</td>\n",
       "      <td>113.0</td>\n",
       "      <td>12</td>\n",
       "      <td>111</td>\n",
       "    </tr>\n",
       "  </tbody>\n",
       "</table>\n",
       "</div>"
      ],
      "text/plain": [
       "   trip_key  date_key transport_key     price  duration  total_passengers  \\\n",
       "0         1  20320817            BU  17186.78     368.0                 1   \n",
       "1         2  20320813           FTL  18551.89     237.0                11   \n",
       "2         3  20300917            RV  19391.71     314.0                 6   \n",
       "3         4  20321129           FTL  27844.02     299.0                12   \n",
       "4         5  20340112           FTL   5393.89     113.0                12   \n",
       "\n",
       "   total_stay_duration  \n",
       "0                  366  \n",
       "1                  234  \n",
       "2                  309  \n",
       "3                  295  \n",
       "4                  111  "
      ]
     },
     "execution_count": 14,
     "metadata": {},
     "output_type": "execute_result"
    }
   ],
   "source": [
    "schema_tables['fact_trips'].head()"
   ]
  },
  {
   "cell_type": "code",
   "execution_count": 15,
   "id": "9a89b843",
   "metadata": {},
   "outputs": [
    {
     "name": "stdout",
     "output_type": "stream",
     "text": [
      "Schema tables dictionary has been saved to 'schema_tables.pkl'\n"
     ]
    }
   ],
   "source": [
    "import pickle\n",
    "\n",
    "# The 'wb' means 'write bytes'.\n",
    "with open('schema_tables.pkl', 'wb') as f:\n",
    "    pickle.dump(schema_tables, f)\n",
    "\n",
    "print(\"Schema tables dictionary has been saved to 'schema_tables.pkl'\")"
   ]
  }
 ],
 "metadata": {
  "kernelspec": {
   "display_name": "Python 3",
   "language": "python",
   "name": "python3"
  },
  "language_info": {
   "codemirror_mode": {
    "name": "ipython",
    "version": 3
   },
   "file_extension": ".py",
   "mimetype": "text/x-python",
   "name": "python",
   "nbconvert_exporter": "python",
   "pygments_lexer": "ipython3",
   "version": "3.12.6"
  }
 },
 "nbformat": 4,
 "nbformat_minor": 5
}
